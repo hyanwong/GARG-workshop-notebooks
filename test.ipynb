{
 "cells": [
  {
   "cell_type": "code",
   "execution_count": 2,
   "id": "6c3ab99d-f2ff-41a4-82c8-35657c2f2f34",
   "metadata": {},
   "outputs": [],
   "source": [
    "import tskit\n",
    "import msprime"
   ]
  },
  {
   "cell_type": "code",
   "execution_count": null,
   "id": "91fe9478-91be-4f1f-a662-ff5f0c19222c",
   "metadata": {},
   "outputs": [],
   "source": [
    "ts = msprime.simulate(10)"
   ]
  }
 ],
 "metadata": {
  "kernelspec": {
   "display_name": "Python 3 (ipykernel)",
   "language": "python",
   "name": "python3"
  },
  "language_info": {
   "codemirror_mode": {
    "name": "ipython",
    "version": 3
   },
   "file_extension": ".py",
   "mimetype": "text/x-python",
   "name": "python",
   "nbconvert_exporter": "python",
   "pygments_lexer": "ipython3",
   "version": "3.10.13"
  }
 },
 "nbformat": 4,
 "nbformat_minor": 5
}
